{
  "cells": [
    {
      "cell_type": "markdown",
      "metadata": {
        "id": "dZYWZNE0f2r4"
      },
      "source": [
        "### 3.4.1 The IMDB dataset"
      ]
    },
    {
      "cell_type": "markdown",
      "metadata": {
        "id": "HZw4gXRbf2r8"
      },
      "source": [
        "- Samples 50,000 review samples\n",
        "- 25,000 for training and 25,000 for testing\n",
        "- 50% Negative and 50% positive Reviews\n",
        "- Available in Kears pre data sets\n",
        "- pre converted in Vector numbers where each number replace spacifice word :)\n",
        "- 80 Mb data size download when you first run otherwise you can see this data set file in .keras folder"
      ]
    },
    {
      "cell_type": "markdown",
      "metadata": {
        "id": "PWb1qB5zf2r9"
      },
      "source": [
        "#### Listing 3.1 Loading the IMDB dataset"
      ]
    },
    {
      "cell_type": "code",
      "execution_count": 1,
      "metadata": {
        "colab": {
          "base_uri": "https://localhost:8080/"
        },
        "id": "eVWaEB5yf2r-",
        "outputId": "23fd5281-8cc7-458d-f195-2562b43fef9e"
      },
      "outputs": [
        {
          "output_type": "stream",
          "name": "stdout",
          "text": [
            "Downloading data from https://storage.googleapis.com/tensorflow/tf-keras-datasets/imdb.npz\n",
            "17464789/17464789 [==============================] - 0s 0us/step\n"
          ]
        }
      ],
      "source": [
        "from tensorflow.keras.datasets import imdb\n",
        "(train_data, train_labels), (test_data, test_labels) = imdb.load_data(num_words=10000)"
      ]
    },
    {
      "cell_type": "markdown",
      "metadata": {
        "id": "8kpaABzPf2sA"
      },
      "source": [
        "The argument num_words=10000 means you’ll only keep the top 10,000 most frequently\n",
        "occurring words in the training data."
      ]
    },
    {
      "cell_type": "raw",
      "metadata": {
        "id": "Ywr7ge_9f2sB"
      },
      "source": [
        " 0    1   2   3       4  5  6\n",
        "[we love our country. i am pakistani]\n",
        "\n",
        "# encode message\n",
        "[013] [we love country] (len=3)\n",
        "[56321] [am pakistani country our love] (len=5)\n",
        "\n",
        "#onehotEncode\n",
        "[013]   = [1,1,0,1,0,0,0] (len=7)\n",
        "[56321] = [0,1,1,1,0,1,1] (len=7)"
      ]
    },
    {
      "cell_type": "code",
      "execution_count": 2,
      "metadata": {
        "colab": {
          "base_uri": "https://localhost:8080/"
        },
        "id": "kFhZHUY8f2sB",
        "outputId": "0c79c538-8406-4df4-a963-93f153b8feac"
      },
      "outputs": [
        {
          "output_type": "stream",
          "name": "stdout",
          "text": [
            "X:\n",
            " [1, 14, 22, 16, 43, 530, 973, 1622, 1385, 65, 458, 4468, 66, 3941, 4, 173, 36, 256, 5, 25, 100, 43, 838, 112, 50, 670, 2, 9, 35, 480, 284, 5, 150, 4, 172, 112, 167, 2, 336, 385, 39, 4, 172, 4536, 1111, 17, 546, 38, 13, 447, 4, 192, 50, 16, 6, 147, 2025, 19, 14, 22, 4, 1920, 4613, 469, 4, 22, 71, 87, 12, 16, 43, 530, 38, 76, 15, 13, 1247, 4, 22, 17, 515, 17, 12, 16, 626, 18, 2, 5, 62, 386, 12, 8, 316, 8, 106, 5, 4, 2223, 5244, 16, 480, 66, 3785, 33, 4, 130, 12, 16, 38, 619, 5, 25, 124, 51, 36, 135, 48, 25, 1415, 33, 6, 22, 12, 215, 28, 77, 52, 5, 14, 407, 16, 82, 2, 8, 4, 107, 117, 5952, 15, 256, 4, 2, 7, 3766, 5, 723, 36, 71, 43, 530, 476, 26, 400, 317, 46, 7, 4, 2, 1029, 13, 104, 88, 4, 381, 15, 297, 98, 32, 2071, 56, 26, 141, 6, 194, 7486, 18, 4, 226, 22, 21, 134, 476, 26, 480, 5, 144, 30, 5535, 18, 51, 36, 28, 224, 92, 25, 104, 4, 226, 65, 16, 38, 1334, 88, 12, 16, 283, 5, 16, 4472, 113, 103, 32, 15, 16, 5345, 19, 178, 32]\n",
            "Y:\n",
            " 1\n"
          ]
        }
      ],
      "source": [
        "print(\"X:\\n\",train_data[0])\n",
        "print(\"Y:\\n\",train_labels[0])"
      ]
    },
    {
      "cell_type": "code",
      "execution_count": 3,
      "metadata": {
        "colab": {
          "base_uri": "https://localhost:8080/"
        },
        "id": "ABDJL3O9f2sC",
        "outputId": "7a5fb9c2-c4fc-42a6-d330-140b8e28581b"
      },
      "outputs": [
        {
          "output_type": "stream",
          "name": "stdout",
          "text": [
            "218\n",
            "189\n"
          ]
        }
      ],
      "source": [
        "print(len(train_data[0]))\n",
        "print(len(train_data[1]))"
      ]
    },
    {
      "cell_type": "markdown",
      "metadata": {
        "id": "0J_iZFYSf2sC"
      },
      "source": [
        "Because you’re restricting yourself to the top 10,000 most frequent words, no word\n",
        "index will exceed 10,000:"
      ]
    },
    {
      "cell_type": "code",
      "execution_count": 4,
      "metadata": {
        "colab": {
          "base_uri": "https://localhost:8080/"
        },
        "id": "v46m_4gVf2sC",
        "outputId": "364fbb99-ae1e-4dd9-b0c6-72ab1828665d"
      },
      "outputs": [
        {
          "output_type": "execute_result",
          "data": {
            "text/plain": [
              "9999"
            ]
          },
          "metadata": {},
          "execution_count": 4
        }
      ],
      "source": [
        "max([max(sequence) for sequence in train_data])"
      ]
    },
    {
      "cell_type": "code",
      "execution_count": 5,
      "metadata": {
        "colab": {
          "base_uri": "https://localhost:8080/"
        },
        "id": "jpjQ2Yevf2sD",
        "outputId": "8ca26885-67fa-4534-8f7b-68408be7fc65"
      },
      "outputs": [
        {
          "output_type": "stream",
          "name": "stdout",
          "text": [
            "Downloading data from https://storage.googleapis.com/tensorflow/tf-keras-datasets/imdb_word_index.json\n",
            "1641221/1641221 [==============================] - 0s 0us/step\n"
          ]
        }
      ],
      "source": [
        "word_index = imdb.get_word_index()\n",
        "\n",
        "reverse_word_index = dict(\n",
        "    [(value, key) for (key, value) in word_index.items()])\n",
        "\n",
        "\n",
        "decoded_review = ' '.join(\n",
        "    [reverse_word_index.get(i - 3, '?') for i in train_data[0]])"
      ]
    },
    {
      "cell_type": "code",
      "execution_count": 6,
      "metadata": {
        "colab": {
          "base_uri": "https://localhost:8080/",
          "height": 140
        },
        "id": "645Vs0pXf2sD",
        "outputId": "d60f91a9-8dec-46b5-c635-759e80a4ae4d"
      },
      "outputs": [
        {
          "output_type": "execute_result",
          "data": {
            "text/plain": [
              "\"? this film was just brilliant casting location scenery story direction everyone's really suited the part they played and you could just imagine being there robert ? is an amazing actor and now the same being director ? father came from the same scottish island as myself so i loved the fact there was a real connection with this film the witty remarks throughout the film were great it was just brilliant so much that i bought the film as soon as it was released for ? and would recommend it to everyone to watch and the fly fishing was amazing really cried at the end it was so sad and you know what they say if you cry at a film it must have been good and this definitely was also ? to the two little boy's that played the ? of norman and paul they were just brilliant children are often left out of the ? list i think because the stars that play them all grown up are such a big profile for the whole film but these children are amazing and should be praised for what they have done don't you think the whole story was so lovely because it was true and was someone's life after all that was shared with us all\""
            ],
            "application/vnd.google.colaboratory.intrinsic+json": {
              "type": "string"
            }
          },
          "metadata": {},
          "execution_count": 6
        }
      ],
      "source": [
        "decoded_review"
      ]
    },
    {
      "cell_type": "raw",
      "metadata": {
        "id": "fgzxXNstf2sE"
      },
      "source": [
        "word_index\n",
        "\n",
        "# {'fawn': 34701,\n",
        "#  'tsukino': 52006,\n",
        "#  'nunnery': 52007,\n",
        "#  'sonja': 16816}"
      ]
    },
    {
      "cell_type": "code",
      "execution_count": 7,
      "metadata": {
        "colab": {
          "base_uri": "https://localhost:8080/"
        },
        "id": "y7JBRjmvf2sE",
        "outputId": "d95558c2-8ed2-40f0-c93e-6b45d2199af2"
      },
      "outputs": [
        {
          "output_type": "stream",
          "name": "stdout",
          "text": [
            "\n",
            "{34701: 'fawn',\n",
            " 52006: 'tsukino',\n",
            " 52007: 'nunnery',\n",
            " 16816: 'sonja'}\n",
            "\n"
          ]
        }
      ],
      "source": [
        "# reverse_word_index\n",
        "print('''\n",
        "{34701: 'fawn',\n",
        " 52006: 'tsukino',\n",
        " 52007: 'nunnery',\n",
        " 16816: 'sonja'}\n",
        "''')"
      ]
    },
    {
      "cell_type": "raw",
      "metadata": {
        "id": "gtYpBSuff2sE"
      },
      "source": [
        "  0     1        2           3\n",
        "[good very_good excellent brilliant]\n",
        "\n",
        " 0 1 2   3     4         5         6\n",
        "[A,B,C, good very_good excellent brilliant]\n",
        "\n",
        "\n",
        "[798][VERY_good,brilliant, excellent]\n",
        "\n",
        "\n",
        "[3,2][brilliant excellent](len2)\n",
        "\n",
        "[1,3,2][very_good brilliant excellent](len3)\n",
        "\n",
        "one-hot-encode\n",
        "[3,2] = [0,0,1,1] (len3)\n",
        "[1,3,2] = [0,1,1,1] (len(3))\n"
      ]
    },
    {
      "cell_type": "code",
      "execution_count": 30,
      "metadata": {
        "colab": {
          "base_uri": "https://localhost:8080/",
          "height": 157
        },
        "id": "rMHAbEAwf2sF",
        "outputId": "2ed6753c-e108-4e71-f5a2-4b0107557c93"
      },
      "outputs": [
        {
          "output_type": "stream",
          "name": "stdout",
          "text": [
            "1\n"
          ]
        },
        {
          "output_type": "execute_result",
          "data": {
            "text/plain": [
              "\"? this film was just brilliant casting location scenery story direction everyone's really suited the part they played and you could just imagine being there robert ? is an amazing actor and now the same being director ? father came from the same scottish island as myself so i loved the fact there was a real connection with this film the witty remarks throughout the film were great it was just brilliant so much that i bought the film as soon as it was released for ? and would recommend it to everyone to watch and the fly fishing was amazing really cried at the end it was so sad and you know what they say if you cry at a film it must have been good and this definitely was also ? to the two little boy's that played the ? of norman and paul they were just brilliant children are often left out of the ? list i think because the stars that play them all grown up are such a big profile for the whole film but these children are amazing and should be praised for what they have done don't you think the whole story was so lovely because it was true and was someone's life after all that was shared with us all\""
            ],
            "application/vnd.google.colaboratory.intrinsic+json": {
              "type": "string"
            }
          },
          "metadata": {},
          "execution_count": 30
        }
      ],
      "source": [
        "print(train_labels[0])\n",
        "decoded_review"
      ]
    },
    {
      "cell_type": "markdown",
      "metadata": {
        "id": "O8cDGMb7f2sF"
      },
      "source": [
        "### 3.4.2 Preparing the data"
      ]
    },
    {
      "cell_type": "markdown",
      "metadata": {
        "id": "jri4cYFUf2sF"
      },
      "source": [
        "- each sample length are differents but our network accept spacific shape size tensor\n",
        "- we have to convert each sample into equal size of tensor apply vectorization technics like one-hot-encode"
      ]
    },
    {
      "cell_type": "markdown",
      "metadata": {
        "id": "f1sKKFSUf2sF"
      },
      "source": [
        "#### Listing 3.2 Encoding the integer sequences into a binary matrix"
      ]
    },
    {
      "cell_type": "code",
      "execution_count": 9,
      "metadata": {
        "id": "Bno1sk6Yf2sG"
      },
      "outputs": [],
      "source": [
        "import numpy as np\n",
        "def vectorize_sequences(sequences, dimension=10000):\n",
        "    results = np.zeros((len(sequences), dimension))\n",
        "    for i, sequence in enumerate(sequences):\n",
        "        results[i, sequence] = 1.\n",
        "    return results\n",
        "\n",
        "x_train = vectorize_sequences(train_data)\n",
        "x_test = vectorize_sequences(test_data)"
      ]
    },
    {
      "cell_type": "code",
      "execution_count": 10,
      "metadata": {
        "colab": {
          "base_uri": "https://localhost:8080/",
          "height": 52
        },
        "id": "PwJPoISqf2sG",
        "outputId": "05c648c7-0513-448e-9994-96bf027b33e9"
      },
      "outputs": [
        {
          "output_type": "display_data",
          "data": {
            "text/plain": [
              "array([0., 1., 1., ..., 0., 0., 0.])"
            ]
          },
          "metadata": {}
        },
        {
          "output_type": "stream",
          "name": "stdout",
          "text": [
            "10000\n"
          ]
        }
      ],
      "source": [
        "display(x_train[1])\n",
        "print(len(x_train[0]))\n"
      ]
    },
    {
      "cell_type": "markdown",
      "metadata": {
        "id": "MIYy2hdqf2sG"
      },
      "source": [
        "#### You should also vectorize your labels, which is straightforward:\n"
      ]
    },
    {
      "cell_type": "code",
      "execution_count": 11,
      "metadata": {
        "id": "blaKubAcf2sH"
      },
      "outputs": [],
      "source": [
        "y_train = np.asarray(train_labels).astype('float32')\n",
        "y_test = np.asarray(test_labels).astype('float32')"
      ]
    },
    {
      "cell_type": "code",
      "execution_count": 12,
      "metadata": {
        "colab": {
          "base_uri": "https://localhost:8080/"
        },
        "id": "QEQfUwNVf2sH",
        "outputId": "3ebb0101-e651-43c8-8bb6-6afe3f30157d"
      },
      "outputs": [
        {
          "output_type": "execute_result",
          "data": {
            "text/plain": [
              "1.0"
            ]
          },
          "metadata": {},
          "execution_count": 12
        }
      ],
      "source": [
        "y_train[0]"
      ]
    },
    {
      "cell_type": "markdown",
      "metadata": {
        "id": "KXdro1rGf2sH"
      },
      "source": [
        "### 3.4.3 Building your network"
      ]
    },
    {
      "cell_type": "markdown",
      "metadata": {
        "id": "CmAOsnLnf2sH"
      },
      "source": [
        "#### Listing 3.3 The model definition"
      ]
    },
    {
      "cell_type": "code",
      "execution_count": 13,
      "metadata": {
        "id": "7z7-8q7Bf2sH"
      },
      "outputs": [],
      "source": [
        "from tensorflow.keras import models\n",
        "from tensorflow.keras import layers\n",
        "model = models.Sequential()\n",
        "model.add(layers.Dense(16, activation='relu', input_shape=(10000,)))\n",
        "model.add(layers.Dense(16, activation='relu'))\n",
        "model.add(layers.Dense(1, activation='sigmoid'))"
      ]
    },
    {
      "cell_type": "markdown",
      "metadata": {
        "id": "tt82uvLNf2sI"
      },
      "source": [
        "### compilation steps\n",
        "- Loss function (binary_crossentropy,mean_squared_error) but binary_crossentropy is best"
      ]
    },
    {
      "cell_type": "markdown",
      "metadata": {
        "id": "dPzCX2Wzf2sI"
      },
      "source": [
        "#### Listing 3.4 Compiling the model"
      ]
    },
    {
      "cell_type": "code",
      "execution_count": 14,
      "metadata": {
        "id": "AQ4gTOgCf2sI"
      },
      "outputs": [],
      "source": [
        "model.compile(optimizer='rmsprop',\n",
        "              loss='binary_crossentropy',\n",
        "              metrics=['accuracy'])"
      ]
    },
    {
      "cell_type": "markdown",
      "metadata": {
        "id": "jOJTstGHf2sI"
      },
      "source": [
        "#### 3.4.4 Validating your approach"
      ]
    },
    {
      "cell_type": "code",
      "execution_count": 15,
      "metadata": {
        "id": "glaCoL7Pf2sI"
      },
      "outputs": [],
      "source": [
        "x_val = x_train[:10000]\n",
        "partial_x_train = x_train[10000:]"
      ]
    },
    {
      "cell_type": "code",
      "execution_count": 16,
      "metadata": {
        "id": "s9T_Vv0-f2sJ"
      },
      "outputs": [],
      "source": [
        "y_val = y_train[:10000]\n",
        "partial_y_train = y_train[10000:]"
      ]
    },
    {
      "cell_type": "markdown",
      "metadata": {
        "id": "zUUEF-QCf2sJ"
      },
      "source": [
        "#### Listing 3.8 Training your model"
      ]
    },
    {
      "cell_type": "code",
      "execution_count": 17,
      "metadata": {
        "colab": {
          "base_uri": "https://localhost:8080/"
        },
        "id": "wPEZbf5_f2sJ",
        "outputId": "d6e50f54-8f42-4af6-8516-686b5a67f3b9"
      },
      "outputs": [
        {
          "output_type": "stream",
          "name": "stdout",
          "text": [
            "Epoch 1/20\n",
            "118/118 [==============================] - 3s 22ms/step - loss: 0.4127 - acc: 0.8402 - val_loss: 0.3114 - val_acc: 0.8760\n",
            "Epoch 2/20\n",
            "118/118 [==============================] - 2s 16ms/step - loss: 0.2217 - acc: 0.9177 - val_loss: 0.2791 - val_acc: 0.8875\n",
            "Epoch 3/20\n",
            "118/118 [==============================] - 2s 19ms/step - loss: 0.1616 - acc: 0.9420 - val_loss: 0.3184 - val_acc: 0.8790\n",
            "Epoch 4/20\n",
            "118/118 [==============================] - 2s 19ms/step - loss: 0.1280 - acc: 0.9546 - val_loss: 0.3137 - val_acc: 0.8834\n",
            "Epoch 5/20\n",
            "118/118 [==============================] - 1s 11ms/step - loss: 0.1010 - acc: 0.9669 - val_loss: 0.3441 - val_acc: 0.8809\n",
            "Epoch 6/20\n",
            "118/118 [==============================] - 2s 16ms/step - loss: 0.0792 - acc: 0.9733 - val_loss: 0.4468 - val_acc: 0.8674\n",
            "Epoch 7/20\n",
            "118/118 [==============================] - 2s 13ms/step - loss: 0.0590 - acc: 0.9815 - val_loss: 0.4333 - val_acc: 0.8743\n",
            "Epoch 8/20\n",
            "118/118 [==============================] - 2s 13ms/step - loss: 0.0434 - acc: 0.9869 - val_loss: 0.4936 - val_acc: 0.8747\n",
            "Epoch 9/20\n",
            "118/118 [==============================] - 2s 17ms/step - loss: 0.0334 - acc: 0.9897 - val_loss: 0.5364 - val_acc: 0.8683\n",
            "Epoch 10/20\n",
            "118/118 [==============================] - 2s 19ms/step - loss: 0.0213 - acc: 0.9942 - val_loss: 0.6017 - val_acc: 0.8686\n",
            "Epoch 11/20\n",
            "118/118 [==============================] - 2s 15ms/step - loss: 0.0145 - acc: 0.9967 - val_loss: 0.6808 - val_acc: 0.8602\n",
            "Epoch 12/20\n",
            "118/118 [==============================] - 2s 15ms/step - loss: 0.0090 - acc: 0.9986 - val_loss: 0.7374 - val_acc: 0.8671\n",
            "Epoch 13/20\n",
            "118/118 [==============================] - 1s 11ms/step - loss: 0.0062 - acc: 0.9988 - val_loss: 0.8706 - val_acc: 0.8598\n",
            "Epoch 14/20\n",
            "118/118 [==============================] - 2s 16ms/step - loss: 0.0032 - acc: 0.9997 - val_loss: 0.8799 - val_acc: 0.8603\n",
            "Epoch 15/20\n",
            "118/118 [==============================] - 1s 11ms/step - loss: 0.0022 - acc: 0.9998 - val_loss: 0.9394 - val_acc: 0.8619\n",
            "Epoch 16/20\n",
            "118/118 [==============================] - 2s 16ms/step - loss: 0.0011 - acc: 0.9999 - val_loss: 0.9951 - val_acc: 0.8636\n",
            "Epoch 17/20\n",
            "118/118 [==============================] - 2s 19ms/step - loss: 0.0012 - acc: 0.9998 - val_loss: 1.0567 - val_acc: 0.8607\n",
            "Epoch 18/20\n",
            "118/118 [==============================] - 2s 15ms/step - loss: 4.2640e-04 - acc: 0.9999 - val_loss: 1.1344 - val_acc: 0.8652\n",
            "Epoch 19/20\n",
            "118/118 [==============================] - 2s 13ms/step - loss: 1.7545e-04 - acc: 1.0000 - val_loss: 1.1843 - val_acc: 0.8637\n",
            "Epoch 20/20\n",
            "118/118 [==============================] - 1s 12ms/step - loss: 1.0359e-04 - acc: 1.0000 - val_loss: 1.2301 - val_acc: 0.8634\n"
          ]
        }
      ],
      "source": [
        "model.compile(optimizer='rmsprop',\n",
        "              loss='binary_crossentropy',\n",
        "              metrics=['acc'])\n",
        "\n",
        "history = model.fit(partial_x_train,\n",
        "                    partial_y_train,\n",
        "                    epochs=20,\n",
        "                    batch_size=128,\n",
        "                    validation_data=(x_val, y_val))"
      ]
    },
    {
      "cell_type": "code",
      "execution_count": 18,
      "metadata": {
        "colab": {
          "base_uri": "https://localhost:8080/"
        },
        "id": "nNdzEhaDf2sJ",
        "outputId": "64fae78d-0d47-4d08-fe45-3f18d050c57c"
      },
      "outputs": [
        {
          "output_type": "execute_result",
          "data": {
            "text/plain": [
              "dict_keys(['loss', 'acc', 'val_loss', 'val_acc'])"
            ]
          },
          "metadata": {},
          "execution_count": 18
        }
      ],
      "source": [
        "history_dict = history.history\n",
        "history_dict.keys()"
      ]
    },
    {
      "cell_type": "markdown",
      "metadata": {
        "id": "Myli_4iGf2sK"
      },
      "source": [
        "#### Listing 3.9 Plotting the training and validation loss"
      ]
    },
    {
      "cell_type": "code",
      "execution_count": 19,
      "metadata": {
        "colab": {
          "base_uri": "https://localhost:8080/",
          "height": 472
        },
        "id": "acX5eYTrf2sK",
        "outputId": "d2bebb62-43de-4cc2-b239-cef896f533a0"
      },
      "outputs": [
        {
          "output_type": "display_data",
          "data": {
            "text/plain": [
              "<Figure size 640x480 with 1 Axes>"
            ],
            "image/png": "[encoded data removed]"
          },
          "metadata": {}
        }
      ],
      "source": [
        "import matplotlib.pyplot as plt\n",
        "history_dict = history.history\n",
        "\n",
        "loss_values = history_dict['loss']\n",
        "val_loss_values = history_dict['val_loss']\n",
        "epochs = np.arange(1, len(history_dict[\"acc\"]) + 1)\n",
        "plt.plot(epochs, loss_values, 'bo', label='Training loss')\n",
        "plt.plot(epochs, val_loss_values, 'b', label='Validation loss')\n",
        "plt.title('Training and validation loss')\n",
        "plt.xlabel('Epochs')\n",
        "plt.ylabel('Loss')\n",
        "plt.legend()\n",
        "plt.show()"
      ]
    },
    {
      "cell_type": "markdown",
      "metadata": {
        "id": "okOEBmvrf2sK"
      },
      "source": [
        "#### Listing 3.10 Plotting the training and validation accuracy"
      ]
    },
    {
      "cell_type": "code",
      "execution_count": 20,
      "metadata": {
        "colab": {
          "base_uri": "https://localhost:8080/",
          "height": 472
        },
        "id": "8XmG8daqf2sR",
        "outputId": "b0400e83-6427-47e9-8dd1-e4e73e8831f7"
      },
      "outputs": [
        {
          "output_type": "display_data",
          "data": {
            "text/plain": [
              "<Figure size 640x480 with 1 Axes>"
            ],
            "image/png": "[encoded data removed]"
          },
          "metadata": {}
        }
      ],
      "source": [
        "plt.clf()\n",
        "acc_values = history_dict['acc']\n",
        "val_acc_values = history_dict['val_acc']\n",
        "plt.plot(epochs, history_dict[\"acc\"], 'bo', label='Training acc')\n",
        "plt.plot(epochs, history_dict[\"val_acc\"], 'b', label='Validation acc')\n",
        "plt.title('Training and validation accuracy')\n",
        "plt.xlabel('Epochs')\n",
        "plt.ylabel('Loss')\n",
        "plt.legend()\n",
        "plt.show()"
      ]
    },
    {
      "cell_type": "markdown",
      "metadata": {
        "id": "XOyf2780f2sR"
      },
      "source": [
        "#### Listing 3.11 Retraining a model from scratch"
      ]
    },
    {
      "cell_type": "code",
      "execution_count": 21,
      "metadata": {
        "colab": {
          "base_uri": "https://localhost:8080/"
        },
        "id": "-VIfjme-f2sS",
        "outputId": "d266dc35-145f-4b57-8ced-6c0be2b85526"
      },
      "outputs": [
        {
          "output_type": "stream",
          "name": "stdout",
          "text": [
            "Epoch 1/4\n",
            "49/49 [==============================] - 2s 37ms/step - loss: 0.4745 - accuracy: 0.8102\n",
            "Epoch 2/4\n",
            "49/49 [==============================] - 2s 36ms/step - loss: 0.2750 - accuracy: 0.9027\n",
            "Epoch 3/4\n",
            "49/49 [==============================] - 1s 25ms/step - loss: 0.2152 - accuracy: 0.9202\n",
            "Epoch 4/4\n",
            "49/49 [==============================] - 1s 23ms/step - loss: 0.1832 - accuracy: 0.9332\n",
            "782/782 [==============================] - 2s 2ms/step - loss: 0.2899 - accuracy: 0.8838\n"
          ]
        }
      ],
      "source": [
        "model = models.Sequential()\n",
        "model.add(layers.Dense(16, activation='relu', input_shape=(10000,)))\n",
        "model.add(layers.Dense(16, activation='relu'))\n",
        "model.add(layers.Dense(1, activation='sigmoid'))\n",
        "\n",
        "model.compile(optimizer='rmsprop',\n",
        "              loss='binary_crossentropy',\n",
        "              metrics=['accuracy'])\n",
        "\n",
        "model.fit(x_train, y_train, epochs=4, batch_size=512)\n",
        "results = model.evaluate(x_test, y_test)"
      ]
    },
    {
      "cell_type": "code",
      "execution_count": 22,
      "metadata": {
        "colab": {
          "base_uri": "https://localhost:8080/"
        },
        "id": "Wv-n2LIMf2sS",
        "outputId": "982b654c-6e2f-4f99-b97c-cadebddac2a4"
      },
      "outputs": [
        {
          "output_type": "execute_result",
          "data": {
            "text/plain": [
              "[0.2898980379104614, 0.8837599754333496]"
            ]
          },
          "metadata": {},
          "execution_count": 22
        }
      ],
      "source": [
        "results"
      ]
    },
    {
      "cell_type": "markdown",
      "metadata": {
        "id": "UUgajumff2sS"
      },
      "source": [
        "This fairly naive approach achieves an accuracy of 88%. With state-of-the-art\n",
        "approaches, you should be able to get close to 95%."
      ]
    },
    {
      "cell_type": "markdown",
      "metadata": {
        "id": "eEqwcBtCf2sS"
      },
      "source": [
        "## 3.4.5 Using a trained network to generate predictions on new data"
      ]
    },
    {
      "cell_type": "code",
      "execution_count": 26,
      "metadata": {
        "colab": {
          "base_uri": "https://localhost:8080/"
        },
        "id": "GgaW2heCf2sT",
        "outputId": "936a9c87-fe02-4413-adda-ca4912f09882"
      },
      "outputs": [
        {
          "output_type": "stream",
          "name": "stdout",
          "text": [
            "782/782 [==============================] - 2s 2ms/step\n"
          ]
        },
        {
          "output_type": "execute_result",
          "data": {
            "text/plain": [
              "array([[0.15852906],\n",
              "       [0.9998529 ],\n",
              "       [0.8144704 ],\n",
              "       ...,\n",
              "       [0.07892926],\n",
              "       [0.06401766],\n",
              "       [0.55072856]], dtype=float32)"
            ]
          },
          "metadata": {},
          "execution_count": 26
        }
      ],
      "source": [
        "model.predict(x_test)"
      ]
    },
    {
      "cell_type": "code",
      "source": [
        "print(x_test)"
      ],
      "metadata": {
        "colab": {
          "base_uri": "https://localhost:8080/"
        },
        "id": "iIm_b_dKg3_4",
        "outputId": "b52a1474-e7a6-4de2-f137-de6d7cb6c0ff"
      },
      "execution_count": 27,
      "outputs": [
        {
          "output_type": "stream",
          "name": "stdout",
          "text": [
            "[[0. 1. 1. ... 0. 0. 0.]\n",
            " [0. 1. 1. ... 0. 0. 0.]\n",
            " [0. 1. 1. ... 0. 0. 0.]\n",
            " ...\n",
            " [0. 1. 1. ... 0. 0. 0.]\n",
            " [0. 1. 1. ... 0. 0. 0.]\n",
            " [0. 1. 1. ... 0. 0. 0.]]\n"
          ]
        }
      ]
    },
    {
      "cell_type": "markdown",
      "metadata": {
        "id": "GGoPXyBaf2sT"
      },
      "source": [
        "## 3.4.6 Further experiments\n",
        "The following experiments will help convince you that the architecture choices you’ve\n",
        "made are all fairly reasonable, although there’s still room for improvement:\n",
        "- You used two hidden layers. Try using one or three hidden layers, and see how\n",
        "doing so affects validation and test accuracy.\n",
        "- Try using layers with more hidden units or fewer hidden units: 32 units, 64 units,\n",
        "and so on.\n",
        "- Try using the mse loss function instead of binary_crossentropy.\n",
        "- Try using the tanh activation (an activation that was popular in the early days of\n",
        "neural networks) instead of relu.\n"
      ]
    }
  ],
  "metadata": {
    "kernelspec": {
      "display_name": "Python 3",
      "language": "python",
      "name": "python3"
    },
    "language_info": {
      "codemirror_mode": {
        "name": "ipython",
        "version": 3
      },
      "file_extension": ".py",
      "mimetype": "text/x-python",
      "name": "python",
      "nbconvert_exporter": "python",
      "pygments_lexer": "ipython3",
      "version": "3.7.15"
    },
    "colab": {
      "provenance": []
    }
  },
  "nbformat": 4,
  "nbformat_minor": 0
}